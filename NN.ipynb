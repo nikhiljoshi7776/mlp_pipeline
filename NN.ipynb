{
 "cells": [
  {
   "cell_type": "markdown",
   "id": "c1f23ff4",
   "metadata": {},
   "source": [
    "1. Load the data set into Python using, e.g., load_wine or genfromtxt, as appropriate. In the case of the USPS dataset, merge the original training and test sets into one dataset."
   ]
  },
  {
   "cell_type": "markdown",
   "id": "f64e51b8",
   "metadata": {},
   "source": [
    "for wine dataset"
   ]
  },
  {
   "cell_type": "code",
   "execution_count": 1,
   "id": "46907057",
   "metadata": {},
   "outputs": [],
   "source": [
    "from sklearn.datasets import load_wine\n",
    "wine = load_wine()"
   ]
  },
  {
   "cell_type": "markdown",
   "id": "d1ee0713",
   "metadata": {},
   "source": [
    "for USPS"
   ]
  },
  {
   "cell_type": "code",
   "execution_count": 2,
   "id": "48c1d864",
   "metadata": {},
   "outputs": [
    {
     "name": "stdout",
     "output_type": "stream",
     "text": [
      "(7291, 257)\n",
      "(2007, 257)\n"
     ]
    }
   ],
   "source": [
    "import numpy as np\n",
    "train = np.genfromtxt('zip.train')\n",
    "print(train.shape)\n",
    "#print(type(train))\n",
    "test = np.genfromtxt('zip.test')\n",
    "print(test.shape)"
   ]
  },
  {
   "cell_type": "code",
   "execution_count": 3,
   "id": "aa4a9fec",
   "metadata": {},
   "outputs": [
    {
     "name": "stdout",
     "output_type": "stream",
     "text": [
      "(9298, 257)\n",
      "(9298, 256)\n",
      "(9298,)\n"
     ]
    }
   ],
   "source": [
    "X_data = np.concatenate((train, test))\n",
    "X = X_data[:,1:257]\n",
    "y = X_data[:,0]\n",
    "X_data.shape\n",
    "print(X_data.shape)\n",
    "print(X.shape)\n",
    "print(y.shape)"
   ]
  },
  {
   "cell_type": "markdown",
   "id": "ead6474f",
   "metadata": {},
   "source": [
    "\n",
    "2. Divide the dataset into a training set and a test set. You may use the function train_test_split. Use your birthday in the format DDMM as random_state (omit leading zeros if any)."
   ]
  },
  {
   "cell_type": "markdown",
   "id": "f9202ade",
   "metadata": {},
   "source": [
    "for USPS"
   ]
  },
  {
   "cell_type": "code",
   "execution_count": 4,
   "id": "b124e916",
   "metadata": {},
   "outputs": [
    {
     "name": "stdout",
     "output_type": "stream",
     "text": [
      "(6973, 256)\n",
      "(2325, 256)\n",
      "(6973,)\n",
      "(2325,)\n"
     ]
    }
   ],
   "source": [
    "from sklearn.model_selection import train_test_split\n",
    "X1_train,X1_test,y1_train,y1_test=train_test_split(X,y,random_state = 1602)\n",
    "\n",
    "print(X1_train.shape)\n",
    "print(X1_test.shape)\n",
    "print(y1_train.shape)\n",
    "print(y1_test.shape)"
   ]
  },
  {
   "cell_type": "markdown",
   "id": "97214d08",
   "metadata": {},
   "source": [
    "for wine dataset"
   ]
  },
  {
   "cell_type": "code",
   "execution_count": 5,
   "id": "7fcbc513",
   "metadata": {},
   "outputs": [
    {
     "name": "stdout",
     "output_type": "stream",
     "text": [
      "(133, 13)\n",
      "(45, 13)\n",
      "(133,)\n",
      "(45,)\n"
     ]
    }
   ],
   "source": [
    "\n",
    "X_train,X_test,y_train,y_test=train_test_split(wine['data'],wine['target'],random_state = 1602)\n",
    "print(X_train.shape)\n",
    "print(X_test.shape)\n",
    "print(y_train.shape)\n",
    "print(y_test.shape)"
   ]
  },
  {
   "cell_type": "markdown",
   "id": "4bfda00d",
   "metadata": {},
   "source": [
    "3. Using cross-validation and the training set only, estimate the generalization accuracy of the MLPClassifier with the default values of the parameters. You may use the function cross_val_score."
   ]
  },
  {
   "cell_type": "markdown",
   "id": "6b2e8070",
   "metadata": {},
   "source": [
    "4. Get rid of the warnings by varying a parameter, or parameters, such as max_iter. Estimate the generalization accuracy of the MLPClassifier with the modified values of the parameters. (If there are no warnings, the modified values of the parameters may be identical to the default values.)"
   ]
  },
  {
   "cell_type": "markdown",
   "id": "f55c8e43",
   "metadata": {},
   "source": [
    "for wine dataset"
   ]
  },
  {
   "cell_type": "code",
   "execution_count": 6,
   "id": "5d979ab3",
   "metadata": {},
   "outputs": [],
   "source": [
    "# from sklearn.neural_network import MLPClassifier\n",
    "# from sklearn.model_selection import cross_val_score\n",
    "# mlp = MLPClassifier(random_state=1602).fit(X_train,y_train) \n",
    "# scores = cross_val_score(mlp, X_train, y_train)\n",
    "# # compute mean cross-validation accuracy\n",
    "# score = np.mean(scores)\n",
    "# print(score)\n"
   ]
  },
  {
   "cell_type": "markdown",
   "id": "90815ed6",
   "metadata": {},
   "source": [
    "The above code gives output: 0.2330484330484331\n",
    "It is commented out to hide the warnings which will be resolved below!"
   ]
  },
  {
   "cell_type": "code",
   "execution_count": 7,
   "id": "110b1578",
   "metadata": {},
   "outputs": [],
   "source": [
    "from matplotlib import pyplot as plt \n",
    "from sklearn.neural_network import MLPClassifier\n",
    "mlp = MLPClassifier(random_state=1602,max_iter = 10000).fit(X_train,y_train) \n"
   ]
  },
  {
   "cell_type": "code",
   "execution_count": 8,
   "id": "b72d2715",
   "metadata": {},
   "outputs": [
    {
     "name": "stdout",
     "output_type": "stream",
     "text": [
      "0.2330484330484331\n"
     ]
    }
   ],
   "source": [
    "from sklearn.model_selection import cross_val_score\n",
    "# perform cross-validation\n",
    "scores = cross_val_score(mlp, X_train, y_train)\n",
    "# compute mean cross-validation accuracy\n",
    "score = np.mean(scores)\n",
    "print(score)"
   ]
  },
  {
   "cell_type": "markdown",
   "id": "737e1dab",
   "metadata": {},
   "source": [
    "for USPS"
   ]
  },
  {
   "cell_type": "code",
   "execution_count": 9,
   "id": "7c260d16",
   "metadata": {},
   "outputs": [],
   "source": [
    "# mlp1 = MLPClassifier(random_state=1602).fit(X1_train,y1_train)\n",
    "# # perform cross-validation\n",
    "# scores1 = cross_val_score(mlp1, X1_train, y1_train)\n",
    "# # compute mean cross-validation accuracy\n",
    "# score1 = np.mean(scores1)\n",
    "# print(score1)"
   ]
  },
  {
   "cell_type": "markdown",
   "id": "0ea5fe31",
   "metadata": {},
   "source": [
    "The above code gives output: 0.9611367715195179\n",
    "It is commented out to hide the warnings which will be resolved below!"
   ]
  },
  {
   "cell_type": "code",
   "execution_count": 10,
   "id": "8d7a9f55",
   "metadata": {},
   "outputs": [],
   "source": [
    "mlp1 = MLPClassifier(random_state=1602,max_iter = 10000).fit(X1_train,y1_train) "
   ]
  },
  {
   "cell_type": "code",
   "execution_count": 11,
   "id": "de86aa7a",
   "metadata": {},
   "outputs": [
    {
     "name": "stdout",
     "output_type": "stream",
     "text": [
      "0.9611367715195179\n"
     ]
    }
   ],
   "source": [
    "# perform cross-validation\n",
    "scores1 = cross_val_score(mlp1, X1_train, y1_train)\n",
    "# compute mean cross-validation accuracy\n",
    "score1 = np.mean(scores1)\n",
    "print(score1)"
   ]
  },
  {
   "cell_type": "markdown",
   "id": "832a1d39",
   "metadata": {},
   "source": [
    "5. Find the test error rate of the MLPClassifier with the modified values of parameters, compare it with the estimate obtained in the previous task (task 4) for the same values of parameters, and write your observations in a markdown cell of your Jupyter notebook."
   ]
  },
  {
   "cell_type": "markdown",
   "id": "e2f4a43d",
   "metadata": {},
   "source": [
    "for wine dataset"
   ]
  },
  {
   "cell_type": "code",
   "execution_count": 12,
   "id": "446e8b50",
   "metadata": {},
   "outputs": [
    {
     "name": "stdout",
     "output_type": "stream",
     "text": [
      "0.6222222222222222\n"
     ]
    }
   ],
   "source": [
    "test_error = mlp.score(X_test,y_test)\n",
    "score2 = (1 - test_error)\n",
    "print(score2)"
   ]
  },
  {
   "cell_type": "markdown",
   "id": "7f574a62",
   "metadata": {},
   "source": [
    "for USPS"
   ]
  },
  {
   "cell_type": "code",
   "execution_count": 13,
   "id": "34c8f203",
   "metadata": {},
   "outputs": [
    {
     "name": "stdout",
     "output_type": "stream",
     "text": [
      "0.024946236559139745\n"
     ]
    }
   ],
   "source": [
    "test_error1 = mlp1.score(X1_test,y1_test)\n",
    "score3 = (1 - test_error1)\n",
    "print(score3)"
   ]
  },
  {
   "cell_type": "markdown",
   "id": "245f2441",
   "metadata": {},
   "source": [
    "generalization accuracy of the MLPClassifier:-\n",
    "for wine dataset: 0.2330484330484331\n",
    "for USPS dataset: 0.9611367715195179\n",
    "test error rate of the MPLClassifier:-\n",
    "for wine dataset: 0.6222222222222222\n",
    "for USPS dataset: 0.024946236559139745\n",
    "\n",
    "The generalization accuracy of MLPClassifier obtained in Task 4 is approximately equal to 1 - test error rate obtained in task 5."
   ]
  },
  {
   "cell_type": "markdown",
   "id": "6461a143",
   "metadata": {},
   "source": [
    "6. Create a pipeline for MLPClassifier involving data normalization and MLPClassifier, and use grid search and cross-validation to tune parameter alpha for the pipeline, avoiding data snooping and data leakage. You may use the scikit-learn class GridSearchCV. Experiment with different ways of doing normalization (such as StandardScaler, MinMaxScaler, RobustScaler, and Normalizer). Which ways are appropriate for either dataset? (The answer, which should be written in your Jupyter notebook, may depend on the results that you obtain for the next task.)"
   ]
  },
  {
   "cell_type": "markdown",
   "id": "fd8b5807",
   "metadata": {},
   "source": [
    "7. Fit the GridSearchCV object of task 6 to the training set and use it to predict the test labels. Write the resulting test error rate in your Jupyter notebook."
   ]
  },
  {
   "cell_type": "markdown",
   "id": "91289d23",
   "metadata": {},
   "source": [
    "for wine dataset"
   ]
  },
  {
   "cell_type": "code",
   "execution_count": 14,
   "id": "579bae06",
   "metadata": {},
   "outputs": [],
   "source": [
    "from sklearn.preprocessing import MinMaxScaler\n",
    "from sklearn.pipeline import Pipeline\n",
    "from sklearn.pipeline import make_pipeline\n",
    "from sklearn.model_selection import GridSearchCV"
   ]
  },
  {
   "cell_type": "code",
   "execution_count": 15,
   "id": "4c7fb49f",
   "metadata": {},
   "outputs": [],
   "source": [
    "# standard syntax\n",
    "pipe = Pipeline([(\"scaler\", MinMaxScaler()), (\"mlp\", MLPClassifier(random_state=1602,max_iter = 10000))])\n",
    "param_grid = {'mlp__alpha': [0.001, 0.01, 0.1, 1, 10, 100]}\n",
    "grid = GridSearchCV(pipe, param_grid=param_grid,n_jobs=-1, cv=5)"
   ]
  },
  {
   "cell_type": "code",
   "execution_count": 16,
   "id": "acfd568f",
   "metadata": {},
   "outputs": [
    {
     "data": {
      "text/plain": [
       "0.0"
      ]
     },
     "execution_count": 16,
     "metadata": {},
     "output_type": "execute_result"
    }
   ],
   "source": [
    "grid.fit(X_train,y_train)\n",
    "pred = grid.predict(X_test)\n",
    "error_rate = np.mean(pred != y_test)\n",
    "error_rate"
   ]
  },
  {
   "cell_type": "code",
   "execution_count": 17,
   "id": "be816615",
   "metadata": {},
   "outputs": [],
   "source": [
    "from sklearn.preprocessing import StandardScaler\n",
    "pipe1 = Pipeline([(\"scaler\", StandardScaler()), (\"mlp\", MLPClassifier(random_state=1602,max_iter = 10000))])\n",
    "param_grid = {'mlp__alpha': [0.001, 0.01, 0.1, 1, 10, 100]}\n",
    "grid1 = GridSearchCV(pipe1, param_grid=param_grid,n_jobs=-1, cv=5)"
   ]
  },
  {
   "cell_type": "code",
   "execution_count": 18,
   "id": "636c6b86",
   "metadata": {},
   "outputs": [
    {
     "data": {
      "text/plain": [
       "0.0"
      ]
     },
     "execution_count": 18,
     "metadata": {},
     "output_type": "execute_result"
    }
   ],
   "source": [
    "grid1.fit(X_train,y_train)\n",
    "pred1 = grid1.predict(X_test)\n",
    "error_rate1 = np.mean(pred1 != y_test)\n",
    "error_rate1"
   ]
  },
  {
   "cell_type": "code",
   "execution_count": 19,
   "id": "6ce40757",
   "metadata": {},
   "outputs": [],
   "source": [
    "from sklearn.preprocessing import RobustScaler\n",
    "pipe2 = Pipeline([(\"scaler\", RobustScaler()), (\"mlp\", MLPClassifier(random_state=1602,max_iter = 10000))])\n",
    "param_grid = {'mlp__alpha': [0.001, 0.01, 0.1, 1, 10, 100]}\n",
    "grid2 = GridSearchCV(pipe2, param_grid=param_grid,n_jobs=-1, cv=5)"
   ]
  },
  {
   "cell_type": "code",
   "execution_count": 20,
   "id": "76ac43c1",
   "metadata": {},
   "outputs": [
    {
     "data": {
      "text/plain": [
       "0.0"
      ]
     },
     "execution_count": 20,
     "metadata": {},
     "output_type": "execute_result"
    }
   ],
   "source": [
    "grid2.fit(X_train,y_train)\n",
    "pred2 = grid2.predict(X_test)\n",
    "error_rate2 = np.mean(pred2 != y_test)\n",
    "error_rate2"
   ]
  },
  {
   "cell_type": "code",
   "execution_count": 21,
   "id": "c96893c6",
   "metadata": {},
   "outputs": [],
   "source": [
    "from sklearn.preprocessing import Normalizer\n",
    "pipe3 = Pipeline([(\"scaler\", Normalizer()), (\"mlp\", MLPClassifier(random_state=1602,max_iter = 10000))])\n",
    "param_grid = {'mlp__alpha': [0.001, 0.01, 0.1, 1, 10, 100]}\n",
    "grid3 = GridSearchCV(pipe3, param_grid=param_grid,n_jobs=-1, cv=5)"
   ]
  },
  {
   "cell_type": "code",
   "execution_count": 22,
   "id": "06dde264",
   "metadata": {},
   "outputs": [
    {
     "data": {
      "text/plain": [
       "0.08888888888888889"
      ]
     },
     "execution_count": 22,
     "metadata": {},
     "output_type": "execute_result"
    }
   ],
   "source": [
    "grid3.fit(X_train,y_train)\n",
    "pred3 = grid3.predict(X_test)\n",
    "error_rate3 = np.mean(pred3 != y_test)\n",
    "error_rate3"
   ]
  },
  {
   "cell_type": "markdown",
   "id": "0e28e810",
   "metadata": {},
   "source": [
    "for USPS"
   ]
  },
  {
   "cell_type": "code",
   "execution_count": 23,
   "id": "005c46cf",
   "metadata": {},
   "outputs": [
    {
     "data": {
      "text/plain": [
       "0.024946236559139787"
      ]
     },
     "execution_count": 23,
     "metadata": {},
     "output_type": "execute_result"
    }
   ],
   "source": [
    "#MinMAxScaler\n",
    "grid.fit(X1_train,y1_train)\n",
    "pred4 = grid.predict(X1_test)\n",
    "error_rate4 = np.mean(pred4 != y1_test)\n",
    "error_rate4"
   ]
  },
  {
   "cell_type": "code",
   "execution_count": 24,
   "id": "168206b1",
   "metadata": {},
   "outputs": [
    {
     "data": {
      "text/plain": [
       "0.024086021505376344"
      ]
     },
     "execution_count": 24,
     "metadata": {},
     "output_type": "execute_result"
    }
   ],
   "source": [
    "#StandardScaler\n",
    "grid1.fit(X1_train,y1_train)\n",
    "pred5 = grid1.predict(X1_test)\n",
    "error_rate5 = np.mean(pred5 != y1_test)\n",
    "error_rate5"
   ]
  },
  {
   "cell_type": "code",
   "execution_count": 25,
   "id": "cbe51dd3",
   "metadata": {},
   "outputs": [
    {
     "data": {
      "text/plain": [
       "0.03397849462365592"
      ]
     },
     "execution_count": 25,
     "metadata": {},
     "output_type": "execute_result"
    }
   ],
   "source": [
    "#RobustScaler\n",
    "grid2.fit(X1_train,y1_train)\n",
    "pred6 = grid2.predict(X1_test)\n",
    "error_rate6 = np.mean(pred6 != y1_test)\n",
    "error_rate6"
   ]
  },
  {
   "cell_type": "code",
   "execution_count": 26,
   "id": "369eac8d",
   "metadata": {},
   "outputs": [
    {
     "data": {
      "text/plain": [
       "0.025376344086021504"
      ]
     },
     "execution_count": 26,
     "metadata": {},
     "output_type": "execute_result"
    }
   ],
   "source": [
    "#Normalizer\n",
    "grid3.fit(X1_train,y1_train)\n",
    "pred7 = grid3.predict(X1_test)\n",
    "error_rate7 = np.mean(pred7 != y1_test)\n",
    "error_rate7\n"
   ]
  },
  {
   "cell_type": "markdown",
   "id": "9e97294a",
   "metadata": {},
   "source": [
    "9. An alternative to implementing a cross-conformal predictor is to experiment with a Support Vector Machine. Perform tasks 4–7 for the class SVC in scikit-learn, as described in Lab Worksheet 8, Section 3. The parameters to fit using grid search are C and gamma."
   ]
  },
  {
   "cell_type": "markdown",
   "id": "14e116bb",
   "metadata": {},
   "source": [
    "for wine dataset"
   ]
  },
  {
   "cell_type": "code",
   "execution_count": 27,
   "id": "4942cd6f",
   "metadata": {},
   "outputs": [
    {
     "name": "stdout",
     "output_type": "stream",
     "text": [
      "Accuracy on training set: 0.706766917293233\n",
      "Accuracy on test set: 0.5777777777777777\n"
     ]
    }
   ],
   "source": [
    "from sklearn.svm import SVC\n",
    "svc = SVC()\n",
    "svc.fit(X_train, y_train)\n",
    "print(\"Accuracy on training set:\", svc.score(X_train, y_train))\n",
    "print(\"Accuracy on test set:\", svc.score(X_test, y_test))"
   ]
  },
  {
   "cell_type": "code",
   "execution_count": 28,
   "id": "afb16479",
   "metadata": {},
   "outputs": [
    {
     "name": "stdout",
     "output_type": "stream",
     "text": [
      "0.7068376068376068\n"
     ]
    }
   ],
   "source": [
    "# perform cross-validation\n",
    "scores_svc = cross_val_score(svc, X_train, y_train)\n",
    "# compute mean cross-validation accuracy\n",
    "score_svc = np.mean(scores_svc)\n",
    "print(score_svc)"
   ]
  },
  {
   "cell_type": "code",
   "execution_count": 29,
   "id": "5444676e",
   "metadata": {},
   "outputs": [
    {
     "name": "stdout",
     "output_type": "stream",
     "text": [
      "0.4222222222222223\n"
     ]
    }
   ],
   "source": [
    "test_error_svc = svc.score(X_test,y_test)\n",
    "score4 = (1 - test_error_svc)\n",
    "print(score4)"
   ]
  },
  {
   "cell_type": "code",
   "execution_count": 30,
   "id": "19976c83",
   "metadata": {},
   "outputs": [],
   "source": [
    "# standard syntax\n",
    "pipe_short = make_pipeline(MinMaxScaler(), SVC())\n",
    "param_grid1 = {'svc__C': [0.01, 0.1, 1, 10, 100],\n",
    "              'svc__gamma': [0.001, 0.01, 0.1, 1, 10, 100]}\n",
    "grid_svc = GridSearchCV(pipe_short, param_grid=param_grid1, cv=5)\n"
   ]
  },
  {
   "cell_type": "code",
   "execution_count": 31,
   "id": "9ee772d3",
   "metadata": {},
   "outputs": [
    {
     "data": {
      "text/plain": [
       "0.022222222222222223"
      ]
     },
     "execution_count": 31,
     "metadata": {},
     "output_type": "execute_result"
    }
   ],
   "source": [
    "grid_svc.fit(X_train,y_train)\n",
    "pred_svc = grid_svc.predict(X_test)\n",
    "error_rate_svc = np.mean(pred_svc != y_test)\n",
    "error_rate_svc"
   ]
  },
  {
   "cell_type": "code",
   "execution_count": 32,
   "id": "af4fff42",
   "metadata": {},
   "outputs": [],
   "source": [
    "pipe_short1 = make_pipeline(StandardScaler(), SVC())\n",
    "param_grid1 = {'svc__C': [0.01, 0.1, 1, 10, 100],\n",
    "              'svc__gamma': [0.001, 0.01, 0.1, 1, 10, 100]}\n",
    "grid_svc1 = GridSearchCV(pipe_short1, param_grid=param_grid1, cv=5)"
   ]
  },
  {
   "cell_type": "code",
   "execution_count": 33,
   "id": "4dc5fefa",
   "metadata": {},
   "outputs": [
    {
     "data": {
      "text/plain": [
       "0.0"
      ]
     },
     "execution_count": 33,
     "metadata": {},
     "output_type": "execute_result"
    }
   ],
   "source": [
    "grid_svc1.fit(X_train,y_train)\n",
    "pred_svc1 = grid_svc1.predict(X_test)\n",
    "error_rate_svc1 = np.mean(pred_svc1 != y_test)\n",
    "error_rate_svc1"
   ]
  },
  {
   "cell_type": "code",
   "execution_count": 34,
   "id": "4cce38d1",
   "metadata": {},
   "outputs": [],
   "source": [
    "pipe_short2 = make_pipeline(RobustScaler(), SVC())\n",
    "param_grid1 = {'svc__C': [0.01, 0.1, 1, 10, 100],\n",
    "              'svc__gamma': [0.001, 0.01, 0.1, 1, 10, 100]}\n",
    "grid_svc2 = GridSearchCV(pipe_short2, param_grid=param_grid1, cv=5)"
   ]
  },
  {
   "cell_type": "code",
   "execution_count": 35,
   "id": "5c648ca2",
   "metadata": {},
   "outputs": [
    {
     "data": {
      "text/plain": [
       "0.0"
      ]
     },
     "execution_count": 35,
     "metadata": {},
     "output_type": "execute_result"
    }
   ],
   "source": [
    "grid_svc2.fit(X_train,y_train)\n",
    "pred_svc2 = grid_svc2.predict(X_test)\n",
    "error_rate_svc2 = np.mean(pred_svc2 != y_test)\n",
    "error_rate_svc2"
   ]
  },
  {
   "cell_type": "code",
   "execution_count": 36,
   "id": "f51d6d73",
   "metadata": {},
   "outputs": [],
   "source": [
    "pipe_short3 = make_pipeline(Normalizer(), SVC())\n",
    "param_grid1 = {'svc__C': [0.01, 0.1, 1, 10, 100],\n",
    "              'svc__gamma': [0.001, 0.01, 0.1, 1, 10, 100]}\n",
    "grid_svc3 = GridSearchCV(pipe_short3, param_grid=param_grid1, cv=5)"
   ]
  },
  {
   "cell_type": "code",
   "execution_count": 37,
   "id": "888b1163",
   "metadata": {},
   "outputs": [
    {
     "data": {
      "text/plain": [
       "0.06666666666666667"
      ]
     },
     "execution_count": 37,
     "metadata": {},
     "output_type": "execute_result"
    }
   ],
   "source": [
    "grid_svc3.fit(X_train,y_train)\n",
    "pred_svc3 = grid_svc3.predict(X_test)\n",
    "error_rate_svc3 = np.mean(pred_svc3 != y_test)\n",
    "error_rate_svc3"
   ]
  },
  {
   "cell_type": "markdown",
   "id": "88e0bf7e",
   "metadata": {},
   "source": [
    "for USPS"
   ]
  },
  {
   "cell_type": "code",
   "execution_count": 38,
   "id": "edc9a010",
   "metadata": {},
   "outputs": [
    {
     "name": "stdout",
     "output_type": "stream",
     "text": [
      "Accuracy on training set: 0.9892442277355514\n",
      "Accuracy on test set: 0.9759139784946237\n"
     ]
    }
   ],
   "source": [
    "from sklearn.svm import SVC\n",
    "svc1 = SVC()\n",
    "svc1.fit(X1_train, y1_train)\n",
    "print(\"Accuracy on training set:\", svc1.score(X1_train, y1_train))\n",
    "print(\"Accuracy on test set:\", svc1.score(X1_test, y1_test))"
   ]
  },
  {
   "cell_type": "code",
   "execution_count": 39,
   "id": "561a27a4",
   "metadata": {},
   "outputs": [
    {
     "name": "stdout",
     "output_type": "stream",
     "text": [
      "0.9685945398353415\n"
     ]
    }
   ],
   "source": [
    "# perform cross-validation\n",
    "scores_svc_usps = cross_val_score(svc1, X1_train, y1_train)\n",
    "# compute mean cross-validation accuracy\n",
    "score_svc_usps = np.mean(scores_svc_usps)\n",
    "print(score_svc_usps)"
   ]
  },
  {
   "cell_type": "code",
   "execution_count": 40,
   "id": "7ac37e3a",
   "metadata": {},
   "outputs": [
    {
     "name": "stdout",
     "output_type": "stream",
     "text": [
      "0.02408602150537631\n"
     ]
    }
   ],
   "source": [
    "test_error_svc_usps = svc1.score(X1_test,y1_test)\n",
    "score_usps = (1 - test_error_svc_usps)\n",
    "print(score_usps)"
   ]
  },
  {
   "cell_type": "code",
   "execution_count": 41,
   "id": "de03bb38",
   "metadata": {},
   "outputs": [
    {
     "data": {
      "text/plain": [
       "0.024946236559139787"
      ]
     },
     "execution_count": 41,
     "metadata": {},
     "output_type": "execute_result"
    }
   ],
   "source": [
    "#MinMaxsScaler\n",
    "grid_svc.fit(X1_train,y1_train)\n",
    "pred_svc_usps = grid_svc.predict(X1_test)\n",
    "error_rate_svc_usps = np.mean(pred_svc_usps != y1_test)\n",
    "error_rate_svc_usps"
   ]
  },
  {
   "cell_type": "code",
   "execution_count": 42,
   "id": "93dc2705",
   "metadata": {},
   "outputs": [
    {
     "data": {
      "text/plain": [
       "0.024946236559139787"
      ]
     },
     "execution_count": 42,
     "metadata": {},
     "output_type": "execute_result"
    }
   ],
   "source": [
    "#StandardScaler\n",
    "grid_svc1.fit(X1_train,y1_train)\n",
    "pred_svc_usps1 = grid_svc1.predict(X1_test)\n",
    "error_rate_svc_usps1 = np.mean(pred_svc_usps1 != y1_test)\n",
    "error_rate_svc_usps1"
   ]
  },
  {
   "cell_type": "code",
   "execution_count": 43,
   "id": "0ea0f3be",
   "metadata": {},
   "outputs": [
    {
     "data": {
      "text/plain": [
       "0.07354838709677419"
      ]
     },
     "execution_count": 43,
     "metadata": {},
     "output_type": "execute_result"
    }
   ],
   "source": [
    "#RobustScaler\n",
    "grid_svc2.fit(X1_train,y1_train)\n",
    "pred_svc_usps2 = grid_svc2.predict(X1_test)\n",
    "error_rate_svc_usps2 = np.mean(pred_svc_usps2 != y1_test)\n",
    "error_rate_svc_usps2"
   ]
  },
  {
   "cell_type": "code",
   "execution_count": 44,
   "id": "31e07829",
   "metadata": {},
   "outputs": [
    {
     "data": {
      "text/plain": [
       "0.01978494623655914"
      ]
     },
     "execution_count": 44,
     "metadata": {},
     "output_type": "execute_result"
    }
   ],
   "source": [
    "#Normalizer\n",
    "grid_svc3.fit(X1_train,y1_train)\n",
    "pred_svc_usps3 = grid_svc3.predict(X1_test)\n",
    "error_rate_svc_usps3 = np.mean(pred_svc_usps3 != y1_test)\n",
    "error_rate_svc_usps3"
   ]
  },
  {
   "cell_type": "code",
   "execution_count": null,
   "id": "af1d62e0",
   "metadata": {},
   "outputs": [],
   "source": []
  }
 ],
 "metadata": {
  "kernelspec": {
   "display_name": "Python 3",
   "language": "python",
   "name": "python3"
  },
  "language_info": {
   "codemirror_mode": {
    "name": "ipython",
    "version": 3
   },
   "file_extension": ".py",
   "mimetype": "text/x-python",
   "name": "python",
   "nbconvert_exporter": "python",
   "pygments_lexer": "ipython3",
   "version": "3.8.8"
  }
 },
 "nbformat": 4,
 "nbformat_minor": 5
}
